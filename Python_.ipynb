{
  "nbformat": 4,
  "nbformat_minor": 0,
  "metadata": {
    "colab": {
      "provenance": [],
      "authorship_tag": "ABX9TyOWnd3xNgeMZ107cEk9+Udb",
      "include_colab_link": true
    },
    "kernelspec": {
      "name": "python3",
      "display_name": "Python 3"
    },
    "language_info": {
      "name": "python"
    }
  },
  "cells": [
    {
      "cell_type": "markdown",
      "metadata": {
        "id": "view-in-github",
        "colab_type": "text"
      },
      "source": [
        "<a href=\"https://colab.research.google.com/github/annie-bw/Avatar-group-work/blob/main/Python_.ipynb\" target=\"_parent\"><img src=\"https://colab.research.google.com/assets/colab-badge.svg\" alt=\"Open In Colab\"/></a>"
      ]
    },
    {
      "cell_type": "code",
      "execution_count": 8,
      "metadata": {
        "colab": {
          "base_uri": "https://localhost:8080/"
        },
        "id": "Yr4luPtQ4YeA",
        "outputId": "b81c51af-8f25-4f0f-8cae-d1fc1db7f6d4"
      },
      "outputs": [
        {
          "output_type": "stream",
          "name": "stdout",
          "text": [
            "Hello class\n",
            "Hello class\n",
            "Hello class\n",
            "Hello class\n",
            "Hello class\n",
            "Hello class\n",
            "Hello class\n",
            "Hello class\n",
            "Hello class\n"
          ]
        }
      ],
      "source": [
        "for i in range (1,10) :\n",
        "  print(\"Hello class\")"
      ]
    },
    {
      "cell_type": "code",
      "source": [
        "number = 0\n",
        "for i in range(1,20,3) :\n",
        "  print(\"Hello world\")\n",
        ""
      ],
      "metadata": {
        "colab": {
          "base_uri": "https://localhost:8080/"
        },
        "id": "jOemb_Ps6YhR",
        "outputId": "28f0fe4a-d93f-4181-eaa4-b6a5e542fde9"
      },
      "execution_count": 4,
      "outputs": [
        {
          "output_type": "stream",
          "name": "stdout",
          "text": [
            "Hello world\n",
            "Hello world\n",
            "Hello world\n",
            "Hello world\n",
            "Hello world\n",
            "Hello world\n",
            "Hello world\n"
          ]
        }
      ]
    },
    {
      "cell_type": "code",
      "source": [
        "number = int(input(\"Enter any number of your choice: \"))\n",
        "count = int (1)\n",
        "for count in range (1,10) :\n",
        "  print (number * count)\n",
        "  count += 1\n"
      ],
      "metadata": {
        "colab": {
          "base_uri": "https://localhost:8080/"
        },
        "id": "d3fH5N8U8fI5",
        "outputId": "e5fa7070-77c0-4018-c296-a5db2252e4dd"
      },
      "execution_count": 7,
      "outputs": [
        {
          "output_type": "stream",
          "name": "stdout",
          "text": [
            "Enter any number of your choice: 3\n",
            "3\n",
            "6\n",
            "9\n",
            "12\n",
            "15\n",
            "18\n",
            "21\n",
            "24\n",
            "27\n"
          ]
        }
      ]
    },
    {
      "cell_type": "code",
      "source": [
        "count = 1\n",
        "while count <= 10:\n",
        "  print(\"Okay\")\n",
        "  count = count + 1"
      ],
      "metadata": {
        "colab": {
          "base_uri": "https://localhost:8080/"
        },
        "id": "caoXr_LTCacM",
        "outputId": "19fac4ea-3b86-4c7e-866f-ac060c2a0443"
      },
      "execution_count": 10,
      "outputs": [
        {
          "output_type": "stream",
          "name": "stdout",
          "text": [
            "Okay\n",
            "Okay\n",
            "Okay\n",
            "Okay\n",
            "Okay\n",
            "Okay\n",
            "Okay\n",
            "Okay\n",
            "Okay\n",
            "Okay\n"
          ]
        }
      ]
    }
  ]
}